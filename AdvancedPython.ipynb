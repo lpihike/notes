{
  "nbformat": 4,
  "nbformat_minor": 0,
  "metadata": {
    "colab": {
      "name": "AdvancedPython.ipynb",
      "provenance": [],
      "collapsed_sections": [],
      "authorship_tag": "ABX9TyOymkjhlBRk6a51ZaY2RH/d",
      "include_colab_link": true
    },
    "kernelspec": {
      "name": "python3",
      "display_name": "Python 3"
    }
  },
  "cells": [
    {
      "cell_type": "markdown",
      "metadata": {
        "id": "view-in-github",
        "colab_type": "text"
      },
      "source": [
        "<a href=\"https://colab.research.google.com/github/lpihike/notes/blob/master/AdvancedPython.ipynb\" target=\"_parent\"><img src=\"https://colab.research.google.com/assets/colab-badge.svg\" alt=\"Open In Colab\"/></a>"
      ]
    },
    {
      "cell_type": "markdown",
      "metadata": {
        "id": "xpwqYN36FWXP",
        "colab_type": "text"
      },
      "source": [
        "[Advanced Python](https://app.pluralsight.com/paths/skill/python)"
      ]
    },
    {
      "cell_type": "markdown",
      "metadata": {
        "id": "P3ONtfq5EWG3",
        "colab_type": "text"
      },
      "source": [
        "# Advanced flow control\n",
        "- Loop-else Clauses\n",
        "else clause is a no-break clause\n",
        "> - while ... else clause\n",
        ">> - stack program\n",
        "> - for ... else clause. Useful in searching. Replacable with search function.\n",
        "> - try ... else\n",
        "- Emulating switch\n",
        "> - using dictionary and callables/lambda functions\n",
        "> - functools.singledispatch (overloading)\n"
      ]
    },
    {
      "cell_type": "code",
      "metadata": {
        "id": "gMC1HkznF3JQ",
        "colab_type": "code",
        "colab": {}
      },
      "source": [
        "from functools import singledispatch"
      ],
      "execution_count": 0,
      "outputs": []
    },
    {
      "cell_type": "markdown",
      "metadata": {
        "id": "fIBoQiXhE2fb",
        "colab_type": "text"
      },
      "source": [
        "# Byte-Oriented Programming"
      ]
    },
    {
      "cell_type": "markdown",
      "metadata": {
        "id": "123Il0MxE9Cu",
        "colab_type": "text"
      },
      "source": [
        "# Object internals\n"
      ]
    },
    {
      "cell_type": "markdown",
      "metadata": {
        "id": "gDy4QFpsFBmo",
        "colab_type": "text"
      },
      "source": [
        "# Descriptors\n"
      ]
    },
    {
      "cell_type": "markdown",
      "metadata": {
        "id": "2dO6M52aFHLU",
        "colab_type": "text"
      },
      "source": [
        "# Instance creation\n"
      ]
    },
    {
      "cell_type": "code",
      "metadata": {
        "id": "efprgQKgESh9",
        "colab_type": "code",
        "colab": {}
      },
      "source": [
        ""
      ],
      "execution_count": 0,
      "outputs": []
    }
  ]
}