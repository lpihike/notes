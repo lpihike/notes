{
  "nbformat": 4,
  "nbformat_minor": 0,
  "metadata": {
    "colab": {
      "name": "NumericAndScalarTypes.ipynb",
      "provenance": [],
      "collapsed_sections": [],
      "toc_visible": true,
      "authorship_tag": "ABX9TyPrZyCAeBcRHMgpzinU7+jS",
      "include_colab_link": true
    },
    "kernelspec": {
      "name": "python3",
      "display_name": "Python 3"
    }
  },
  "cells": [
    {
      "cell_type": "markdown",
      "metadata": {
        "id": "view-in-github",
        "colab_type": "text"
      },
      "source": [
        "<a href=\"https://colab.research.google.com/github/lpihike/notes/blob/master/NumericAndScalarTypes.ipynb\" target=\"_parent\"><img src=\"https://colab.research.google.com/assets/colab-badge.svg\" alt=\"Open In Colab\"/></a>"
      ]
    },
    {
      "cell_type": "markdown",
      "metadata": {
        "id": "Q69ychJHdzpK",
        "colab_type": "text"
      },
      "source": [
        "# Numeric and Scalar Types\n",
        "- "
      ]
    },
    {
      "cell_type": "markdown",
      "metadata": {
        "id": "e_4U-Rd9nJiU",
        "colab_type": "text"
      },
      "source": [
        "## Float \n",
        "Float in python is the same as double in C++.  Float numbers are represent in 64 bits, which:\n",
        "- 1 bit for sign\n",
        "- 11 bit for exponent\n",
        "- 52 bit for faction (15~17 digits decimal precision)"
      ]
    },
    {
      "cell_type": "code",
      "metadata": {
        "id": "zsGMMm1qdLXw",
        "colab_type": "code",
        "colab": {
          "base_uri": "https://localhost:8080/",
          "height": 54
        },
        "outputId": "08b049fb-0a69-4b8e-bb3e-260819b446f3"
      },
      "source": [
        "import sys\n",
        "sys.float_info\n"
      ],
      "execution_count": 2,
      "outputs": [
        {
          "output_type": "execute_result",
          "data": {
            "text/plain": [
              "sys.float_info(max=1.7976931348623157e+308, max_exp=1024, max_10_exp=308, min=2.2250738585072014e-308, min_exp=-1021, min_10_exp=-307, dig=15, mant_dig=53, epsilon=2.220446049250313e-16, radix=2, rounds=1)"
            ]
          },
          "metadata": {
            "tags": []
          },
          "execution_count": 2
        }
      ]
    },
    {
      "cell_type": "markdown",
      "metadata": {
        "id": "ha5lmLJ0me3T",
        "colab_type": "text"
      },
      "source": [
        "## Decimal module"
      ]
    },
    {
      "cell_type": "code",
      "metadata": {
        "id": "ECuMKpERmhOL",
        "colab_type": "code",
        "outputId": "7496502c-5fed-4e87-d17f-65da7111037f",
        "colab": {
          "base_uri": "https://localhost:8080/",
          "height": 54
        }
      },
      "source": [
        "import decimal\n",
        "decimal.getcontext().traps[decimal.FloatOperation] = True # to avoid implicit conversion from float\n",
        "decimal.getcontext()\n"
      ],
      "execution_count": 1,
      "outputs": [
        {
          "output_type": "execute_result",
          "data": {
            "text/plain": [
              "Context(prec=28, rounding=ROUND_HALF_EVEN, Emin=-999999, Emax=999999, capitals=1, clamp=0, flags=[], traps=[InvalidOperation, DivisionByZero, FloatOperation, Overflow])"
            ]
          },
          "metadata": {
            "tags": []
          },
          "execution_count": 1
        }
      ]
    },
    {
      "cell_type": "code",
      "metadata": {
        "id": "01idV7TwVPCX",
        "colab_type": "code",
        "colab": {
          "base_uri": "https://localhost:8080/",
          "height": 34
        },
        "outputId": "e493512c-82aa-4d6e-dead-c6b81280a800"
      },
      "source": [
        "from decimal import Decimal\n",
        "from fractions import Fraction\n",
        "a = Decimal('3.0')\n",
        "print(a)"
      ],
      "execution_count": 6,
      "outputs": [
        {
          "output_type": "stream",
          "text": [
            "3.0\n"
          ],
          "name": "stdout"
        }
      ]
    },
    {
      "cell_type": "code",
      "metadata": {
        "id": "ROH9aP9XWc1z",
        "colab_type": "code",
        "colab": {
          "base_uri": "https://localhost:8080/",
          "height": 34
        },
        "outputId": "83aa6e49-5d5e-4f89-d3c6-6986de0b4a46"
      },
      "source": [
        "0.8-0.7, Decimal('0.8')-Decimal('0.7')"
      ],
      "execution_count": 12,
      "outputs": [
        {
          "output_type": "execute_result",
          "data": {
            "text/plain": [
              "(0.10000000000000009, Decimal('0.1'))"
            ]
          },
          "metadata": {
            "tags": []
          },
          "execution_count": 12
        }
      ]
    },
    {
      "cell_type": "code",
      "metadata": {
        "id": "XAyiGyVDVtpm",
        "colab_type": "code",
        "colab": {
          "base_uri": "https://localhost:8080/",
          "height": 34
        },
        "outputId": "a267aaa4-96f1-4c53-b188-b819f5819fca"
      },
      "source": [
        "# Difference in module\n",
        "\n",
        "(-7)//3, (-7)%3, (Decimal('-7')// Decimal(3)), (Decimal('-7')% Decimal(3))"
      ],
      "execution_count": 10,
      "outputs": [
        {
          "output_type": "execute_result",
          "data": {
            "text/plain": [
              "(-3, 2, Decimal('-2'), Decimal('-1'))"
            ]
          },
          "metadata": {
            "tags": []
          },
          "execution_count": 10
        }
      ]
    },
    {
      "cell_type": "markdown",
      "metadata": {
        "id": "-ekpbxWUWw82",
        "colab_type": "text"
      },
      "source": [
        "## complex numbers\n",
        "complex number is a build-in data type"
      ]
    },
    {
      "cell_type": "code",
      "metadata": {
        "id": "jSIgIraqW40H",
        "colab_type": "code",
        "colab": {
          "base_uri": "https://localhost:8080/",
          "height": 68
        },
        "outputId": "daccc1e9-a1af-4799-bd14-ffdfa4fd23b5"
      },
      "source": [
        "a = 1+2j # j is the square root of -1\n",
        "print(type(a))\n",
        "b = a * a\n",
        "print(b)\n",
        "c = complex(3)\n",
        "print(c, b.real, b.imag)"
      ],
      "execution_count": 19,
      "outputs": [
        {
          "output_type": "stream",
          "text": [
            "<class 'complex'>\n",
            "(-3+4j)\n",
            "(3+0j) -3.0 4.0\n"
          ],
          "name": "stdout"
        }
      ]
    },
    {
      "cell_type": "code",
      "metadata": {
        "id": "1aE16hGaYIot",
        "colab_type": "code",
        "colab": {
          "base_uri": "https://localhost:8080/",
          "height": 34
        },
        "outputId": "656f033c-342b-48fb-f1e7-46c011e9752d"
      },
      "source": [
        "import cmath\n",
        "import math\n",
        "cmath.phase(b), abs(b), math.degrees(3.14)"
      ],
      "execution_count": 26,
      "outputs": [
        {
          "output_type": "execute_result",
          "data": {
            "text/plain": [
              "(2.214297435588181, 5.0, 179.9087476710785)"
            ]
          },
          "metadata": {
            "tags": []
          },
          "execution_count": 26
        }
      ]
    },
    {
      "cell_type": "markdown",
      "metadata": {
        "id": "9Vk9UwjIZQ0L",
        "colab_type": "text"
      },
      "source": [
        "## Base conversions"
      ]
    },
    {
      "cell_type": "code",
      "metadata": {
        "id": "n1iN30caZWyD",
        "colab_type": "code",
        "colab": {
          "base_uri": "https://localhost:8080/",
          "height": 34
        },
        "outputId": "42e78c56-de39-4a10-fc51-cdcaa51dcf3d"
      },
      "source": [
        "a = 95\n",
        "bin(a), oct(a), hex(a)"
      ],
      "execution_count": 27,
      "outputs": [
        {
          "output_type": "execute_result",
          "data": {
            "text/plain": [
              "('0b1011111', '0o137', '0x5f')"
            ]
          },
          "metadata": {
            "tags": []
          },
          "execution_count": 27
        }
      ]
    },
    {
      "cell_type": "code",
      "metadata": {
        "id": "fYt2pIPWZnsS",
        "colab_type": "code",
        "colab": {
          "base_uri": "https://localhost:8080/",
          "height": 34
        },
        "outputId": "4341910b-bfbc-4c9c-9e09-071aace524f8"
      },
      "source": [
        "int('1010', base=2)"
      ],
      "execution_count": 28,
      "outputs": [
        {
          "output_type": "execute_result",
          "data": {
            "text/plain": [
              "10"
            ]
          },
          "metadata": {
            "tags": []
          },
          "execution_count": 28
        }
      ]
    },
    {
      "cell_type": "markdown",
      "metadata": {
        "id": "cCMmir9JZwMo",
        "colab_type": "text"
      },
      "source": [
        "## datetime\n",
        "- date:  y, m, d\n",
        "- time: h, m, s, ms\n",
        "- datetime\n"
      ]
    },
    {
      "cell_type": "code",
      "metadata": {
        "id": "1kLcAGoWCeW5",
        "colab_type": "code",
        "colab": {}
      },
      "source": [
        ""
      ],
      "execution_count": 0,
      "outputs": []
    },
    {
      "cell_type": "code",
      "metadata": {
        "id": "08Vj95APZ2m5",
        "colab_type": "code",
        "colab": {
          "base_uri": "https://localhost:8080/",
          "height": 34
        },
        "outputId": "6c0e337e-c24c-4be3-bee3-a558c2d4732c"
      },
      "source": [
        "import datetime\n",
        "datetime.date(2020, 5, 20), datetime.date.today()"
      ],
      "execution_count": 30,
      "outputs": [
        {
          "output_type": "execute_result",
          "data": {
            "text/plain": [
              "(datetime.date(2020, 5, 20), datetime.date(2020, 5, 24))"
            ]
          },
          "metadata": {
            "tags": []
          },
          "execution_count": 30
        }
      ]
    },
    {
      "cell_type": "code",
      "metadata": {
        "id": "wL9b5M1yaSou",
        "colab_type": "code",
        "colab": {
          "base_uri": "https://localhost:8080/",
          "height": 34
        },
        "outputId": "3488fcac-72c8-4791-a70a-a625bfdf8aa1"
      },
      "source": [
        "a = datetime.date(2020, 5, 20)\n",
        "a.isoformat(), a.weekday() # Monday = 0"
      ],
      "execution_count": 33,
      "outputs": [
        {
          "output_type": "execute_result",
          "data": {
            "text/plain": [
              "('2020-05-20', 2)"
            ]
          },
          "metadata": {
            "tags": []
          },
          "execution_count": 33
        }
      ]
    },
    {
      "cell_type": "code",
      "metadata": {
        "id": "kV4M_-Paa50v",
        "colab_type": "code",
        "colab": {
          "base_uri": "https://localhost:8080/",
          "height": 34
        },
        "outputId": "8613e742-65f6-4402-cdd6-b5789b28b62d"
      },
      "source": [
        "b = datetime.time(3,1,2)\n",
        "b.hour, b.minute, b.isoformat(), \\\n",
        "\"{b.hour}h{b.minute}m\".format(b=b)"
      ],
      "execution_count": 40,
      "outputs": [
        {
          "output_type": "execute_result",
          "data": {
            "text/plain": [
              "(3, 1, '03:01:02', '3h1m')"
            ]
          },
          "metadata": {
            "tags": []
          },
          "execution_count": 40
        }
      ]
    },
    {
      "cell_type": "code",
      "metadata": {
        "id": "REfbHxHxcMJX",
        "colab_type": "code",
        "colab": {
          "base_uri": "https://localhost:8080/",
          "height": 34
        },
        "outputId": "8de73ecd-27eb-4a30-bbc5-5b5ed145eb74"
      },
      "source": [
        "c = datetime.datetime(2020, 5, 21, 12, 15, 22)\n",
        "datetime.datetime.now()"
      ],
      "execution_count": 44,
      "outputs": [
        {
          "output_type": "execute_result",
          "data": {
            "text/plain": [
              "datetime.datetime(2020, 5, 24, 20, 48, 51, 883230)"
            ]
          },
          "metadata": {
            "tags": []
          },
          "execution_count": 44
        }
      ]
    },
    {
      "cell_type": "code",
      "metadata": {
        "id": "2BgUi5r7cqzc",
        "colab_type": "code",
        "colab": {
          "base_uri": "https://localhost:8080/",
          "height": 34
        },
        "outputId": "17333674-04dc-4f99-c896-4a6e0d1c4dd7"
      },
      "source": [
        "datetime.datetime.strptime(\"05/21/2020\", \"%m/%d/%Y\")"
      ],
      "execution_count": 47,
      "outputs": [
        {
          "output_type": "execute_result",
          "data": {
            "text/plain": [
              "datetime.datetime(2020, 5, 21, 0, 0)"
            ]
          },
          "metadata": {
            "tags": []
          },
          "execution_count": 47
        }
      ]
    }
  ]
}