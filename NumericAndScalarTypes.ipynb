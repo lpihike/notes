{
  "nbformat": 4,
  "nbformat_minor": 0,
  "metadata": {
    "colab": {
      "name": "NumericAndScalarTypes.ipynb",
      "provenance": [],
      "authorship_tag": "ABX9TyMGQR0d7Wvx06DCZN08HqVI",
      "include_colab_link": true
    },
    "kernelspec": {
      "name": "python3",
      "display_name": "Python 3"
    }
  },
  "cells": [
    {
      "cell_type": "markdown",
      "metadata": {
        "id": "view-in-github",
        "colab_type": "text"
      },
      "source": [
        "<a href=\"https://colab.research.google.com/github/lpihike/notes/blob/master/NumericAndScalarTypes.ipynb\" target=\"_parent\"><img src=\"https://colab.research.google.com/assets/colab-badge.svg\" alt=\"Open In Colab\"/></a>"
      ]
    },
    {
      "cell_type": "markdown",
      "metadata": {
        "id": "Q69ychJHdzpK",
        "colab_type": "text"
      },
      "source": [
        "# Numeric and Scalar Types\n",
        "- "
      ]
    },
    {
      "cell_type": "code",
      "metadata": {
        "id": "zsGMMm1qdLXw",
        "colab_type": "code",
        "colab": {}
      },
      "source": [
        "import sys\n"
      ],
      "execution_count": 0,
      "outputs": []
    }
  ]
}