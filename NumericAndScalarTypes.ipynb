{
  "nbformat": 4,
  "nbformat_minor": 0,
  "metadata": {
    "colab": {
      "name": "NumericAndScalarTypes.ipynb",
      "provenance": [],
      "collapsed_sections": [],
      "authorship_tag": "ABX9TyN8QF/4caBeAIxrA2/shIOF",
      "include_colab_link": true
    },
    "kernelspec": {
      "name": "python3",
      "display_name": "Python 3"
    }
  },
  "cells": [
    {
      "cell_type": "markdown",
      "metadata": {
        "id": "view-in-github",
        "colab_type": "text"
      },
      "source": [
        "<a href=\"https://colab.research.google.com/github/lpihike/notes/blob/master/NumericAndScalarTypes.ipynb\" target=\"_parent\"><img src=\"https://colab.research.google.com/assets/colab-badge.svg\" alt=\"Open In Colab\"/></a>"
      ]
    },
    {
      "cell_type": "markdown",
      "metadata": {
        "id": "Q69ychJHdzpK",
        "colab_type": "text"
      },
      "source": [
        "# Numeric and Scalar Types\n",
        "- "
      ]
    },
    {
      "cell_type": "code",
      "metadata": {
        "id": "zsGMMm1qdLXw",
        "colab_type": "code",
        "colab": {}
      },
      "source": [
        "import sys\n"
      ],
      "execution_count": 0,
      "outputs": []
    },
    {
      "cell_type": "markdown",
      "metadata": {
        "id": "e_4U-Rd9nJiU",
        "colab_type": "text"
      },
      "source": [
        "## Float \n",
        "Float in python is the same as double in C++.  Float numbers are represent in 64 bits, which:\n",
        "- 1 bit for sign\n",
        "- 11 bit for exponent\n",
        "- 52 bit for faction (15~17 digits decimal precision)"
      ]
    },
    {
      "cell_type": "markdown",
      "metadata": {
        "id": "ha5lmLJ0me3T",
        "colab_type": "text"
      },
      "source": [
        "## Decimal module"
      ]
    },
    {
      "cell_type": "code",
      "metadata": {
        "id": "ECuMKpERmhOL",
        "colab_type": "code",
        "colab": {
          "base_uri": "https://localhost:8080/",
          "height": 54
        },
        "outputId": "279f12b9-bba5-4aa6-d91f-2b7528129fd7"
      },
      "source": [
        "import decimal\n",
        "decimal.getcontext().traps[decimal.FloatOperation] = True # to avoid implicit conversion from float\n"
      ],
      "execution_count": 2,
      "outputs": [
        {
          "output_type": "execute_result",
          "data": {
            "text/plain": [
              "Context(prec=28, rounding=ROUND_HALF_EVEN, Emin=-999999, Emax=999999, capitals=1, clamp=0, flags=[], traps=[InvalidOperation, DivisionByZero, Overflow])"
            ]
          },
          "metadata": {
            "tags": []
          },
          "execution_count": 2
        }
      ]
    }
  ]
}