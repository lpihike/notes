{
  "nbformat": 4,
  "nbformat_minor": 0,
  "metadata": {
    "colab": {
      "name": "web2py.ipynb",
      "provenance": [],
      "collapsed_sections": [],
      "authorship_tag": "ABX9TyPZygpjGnR3SrXOMtkjEcHJ",
      "include_colab_link": true
    },
    "kernelspec": {
      "name": "python3",
      "display_name": "Python 3"
    }
  },
  "cells": [
    {
      "cell_type": "markdown",
      "metadata": {
        "id": "view-in-github",
        "colab_type": "text"
      },
      "source": [
        "<a href=\"https://colab.research.google.com/github/lpihike/notes/blob/master/web2py.ipynb\" target=\"_parent\"><img src=\"https://colab.research.google.com/assets/colab-badge.svg\" alt=\"Open In Colab\"/></a>"
      ]
    },
    {
      "cell_type": "markdown",
      "metadata": {
        "id": "n058Y-WiRTtT",
        "colab_type": "text"
      },
      "source": [
        "[Full stack web development using Python and WEB2PY](https://app.pluralsight.com/paths/skill/python)\n",
        "WEB2PY is an easy to learn, integrate framework that includes a web server, admin, bootstap, and sqlite database.\n",
        "\n",
        "Full Stack Web Development\n",
        "- Front end\n",
        "- Server\n",
        "- Database\n",
        "\n",
        "Overview:\n",
        "- Download WEB2PY\n",
        "- MVC SQLFORMS\n",
        "- Database Admin\n",
        "- Filter, Sort, Update\n",
        "- Role Based Access\n",
        "- Relational Data\n",
        "\n",
        "URL Mapping:\n",
        "http://server/app/cntr/view/args, for example http://127.0.0.1:8000/pluralsight/basics/request_object\n",
        "\n",
        "Request Arguments and Variables\n",
        "- Arguments:\n",
        "> - part of URL\n",
        "> - request.arg(0), request.arg(1), ...\n",
        "- Variables\n",
        "> - from HTML forms\n",
        "> - request.vars.form_name\n",
        "\n",
        "File location:\n",
        "/Applications/web2py.app/Contents/MacOS/applications/pluralsight\n",
        "\n",
        "Response object\n",
        "\n",
        "PythonAnywhere\n",
        "This tool might be not up-to-date with web2py and it does not handle python 3\n",
        "https://www.pythonanywhere.com/user/lpihike/webapps/#tab_id_lpihike_pythonanywhere_com\n",
        "202005\n",
        "\n",
        "\n",
        "http://lpihike.pythonanywhere.com/welcome/default/index\n",
        "https://lpihike.pythonanywhere.com/pluralsight/basics/helloworld\n",
        "https://lpihike.pythonanywhere.com/pluralsight/basics/request_vars\n"
      ]
    },
    {
      "cell_type": "markdown",
      "metadata": {
        "id": "TSCskFIQYt3Y",
        "colab_type": "text"
      },
      "source": [
        "Building a blog website\n",
        "\n",
        "Model\n",
        "- database\n",
        "db.define_table\n",
        "- validator\n",
        "\n",
        "[SQL FORMS](http://web2py.com/books/default/chapter/29/07/forms-and-validators#SQLFORM)\n",
        "- process method\n",
        "- accept method"
      ]
    },
    {
      "cell_type": "markdown",
      "metadata": {
        "id": "LDP9q0mOcTHu",
        "colab_type": "text"
      },
      "source": [
        "# Database administration\n",
        "\n",
        "Import csv\n",
        "Query database\n",
        "Render JSON, xml\n",
        "\n",
        "# Filter\n",
        "using bootstrap to create table view from db"
      ]
    },
    {
      "cell_type": "markdown",
      "metadata": {
        "id": "nXW5VQotfreO",
        "colab_type": "text"
      },
      "source": [
        "# Role based access control\n",
        "DB Tables: (under database administration)\n",
        "db.auth_user\n",
        "db.auth_group\n",
        "db.auth_membership\n",
        "\n",
        "@auth.requires_membership()  # decorators to each method\n",
        "@auth.requires_login()\n",
        "\n",
        "Third-party authentication\n"
      ]
    },
    {
      "cell_type": "markdown",
      "metadata": {
        "id": "EDorseqvkW2P",
        "colab_type": "text"
      },
      "source": [
        "# Relational Database\n",
        "- Relational database concepts\n",
        "- Execute SQL\n",
        "- Dictionaries\n",
        "- Reference integrity"
      ]
    },
    {
      "cell_type": "code",
      "metadata": {
        "id": "c5m2jFltRNpc",
        "colab_type": "code",
        "colab": {}
      },
      "source": [
        ""
      ],
      "execution_count": 0,
      "outputs": []
    }
  ]
}