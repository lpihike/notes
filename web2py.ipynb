{
  "nbformat": 4,
  "nbformat_minor": 0,
  "metadata": {
    "colab": {
      "name": "web2py.ipynb",
      "provenance": [],
      "collapsed_sections": [],
      "authorship_tag": "ABX9TyP6w6AilEplQ1eogZS8NytW",
      "include_colab_link": true
    },
    "kernelspec": {
      "name": "python3",
      "display_name": "Python 3"
    }
  },
  "cells": [
    {
      "cell_type": "markdown",
      "metadata": {
        "id": "view-in-github",
        "colab_type": "text"
      },
      "source": [
        "<a href=\"https://colab.research.google.com/github/lpihike/notes/blob/master/web2py.ipynb\" target=\"_parent\"><img src=\"https://colab.research.google.com/assets/colab-badge.svg\" alt=\"Open In Colab\"/></a>"
      ]
    },
    {
      "cell_type": "markdown",
      "metadata": {
        "id": "n058Y-WiRTtT",
        "colab_type": "text"
      },
      "source": [
        "[Full stack web development using Python and WEB2PY](https://app.pluralsight.com/paths/skill/python)\n",
        "WEB2PY is an easy to learn, integrate framework that includes a web server, admin, bootstap, and sqlite database.\n",
        "\n",
        "Full Stack Web Development\n",
        "- Front end\n",
        "- Server\n",
        "- Database\n",
        "\n",
        "Overview:\n",
        "- Download WEB2PY\n",
        "- MVC SQLFORMS\n",
        "- Database Admin\n",
        "- Filter, Sort, Update\n",
        "- Role Based Access\n",
        "- Relational Data"
      ]
    },
    {
      "cell_type": "code",
      "metadata": {
        "id": "c5m2jFltRNpc",
        "colab_type": "code",
        "colab": {}
      },
      "source": [
        ""
      ],
      "execution_count": 0,
      "outputs": []
    }
  ]
}