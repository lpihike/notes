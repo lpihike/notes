{
  "nbformat": 4,
  "nbformat_minor": 0,
  "metadata": {
    "colab": {
      "name": "PythonNotes.ipynb",
      "provenance": [],
      "collapsed_sections": [],
      "authorship_tag": "ABX9TyNCivZGKPO44E+ArpHqttG5",
      "include_colab_link": true
    },
    "kernelspec": {
      "name": "python3",
      "display_name": "Python 3"
    }
  },
  "cells": [
    {
      "cell_type": "markdown",
      "metadata": {
        "id": "view-in-github",
        "colab_type": "text"
      },
      "source": [
        "<a href=\"https://colab.research.google.com/github/lpihike/notes/blob/master/PythonNotes.ipynb\" target=\"_parent\"><img src=\"https://colab.research.google.com/assets/colab-badge.svg\" alt=\"Open In Colab\"/></a>"
      ]
    },
    {
      "cell_type": "markdown",
      "metadata": {
        "id": "ffIaG4KMSa00",
        "colab_type": "text"
      },
      "source": [
        "# Jupyther theme\n",
        "Package [jupyter-themes](https://github.com/dunovank/jupyter-themes) by Kyle Dunovan.\n",
        "\n",
        "## Installation:\n",
        "- [Anaconda](https://anaconda.org/conda-forge/jupyterthemes) \n",
        "> - ```jt -t onedork -fs 95 -altp -tfs 11 -nfs 115 -cellw 88% -T```"
      ]
    }
  ]
}